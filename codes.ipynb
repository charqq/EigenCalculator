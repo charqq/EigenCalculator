{
 "cells": [
  {
   "cell_type": "code",
   "execution_count": 1,
   "metadata": {},
   "outputs": [],
   "source": [
    "using LinearAlgebra"
   ]
  },
  {
   "cell_type": "markdown",
   "metadata": {},
   "source": [
    "# Power Method"
   ]
  },
  {
   "cell_type": "markdown",
   "metadata": {},
   "source": [
    "## Initialization and Checks"
   ]
  },
  {
   "cell_type": "code",
   "execution_count": null,
   "metadata": {},
   "outputs": [
    {
     "data": {
      "text/plain": [
       "4×4 Matrix{Int64}:\n",
       " 4  2  3  1\n",
       " 2  5  1  0\n",
       " 3  1  6  2\n",
       " 1  0  2  7"
      ]
     },
     "execution_count": 45,
     "metadata": {},
     "output_type": "execute_result"
    }
   ],
   "source": [
    "A0 = [\n",
    "    12  3  5  7  2  9  4  1  11  6;\n",
    "    2   15  3  7  6  5  8  9  1   10;\n",
    "    4   1   16  8  7  5  9  3  12  2;\n",
    "    3   6   9   14  4  11  13  7  10  15;\n",
    "    5   7   6   4   18  3  2  9  1   13;\n",
    "    11  8   7   5  12  17  3  2  6   14;\n",
    "    1   2   3   4  5   6   19  8  11  10;\n",
    "    9   10  11  12  13  14  15  16  17  18;\n",
    "    6   5   3   4  1   2   7   8   19  20;\n",
    "    8   4   3   12  9   1   6   11  10  7;\n",
    "]\n",
    "A0 = [\n",
    "    2   3   4   5   6   7   8   9  10  11  12;\n",
    "    3   4   5   6   7   8   9  10  11  12  13;\n",
    "    4   5   6   7   8   9  10  11  12  13  14;\n",
    "    5   6   7   8   9  10  11  12  13  14  15;\n",
    "    6   7   8   9  10  11  12  13  14  15  16;\n",
    "    7   8   9  10  11  12  13  14  15  16  17;\n",
    "    8   9  10  11  12  13  14  15  16  17  18;\n",
    "    9  10  11  12  13  14  15  16  17  18  19;\n",
    "   10  11  12  13  14  15  16  17  18  19  20;\n",
    "   11  12  13  14  15  16  17  18  19  20  21;\n",
    "   12  13  14  15  16  17  18  19  20  21  22\n",
    "]\n",
    "A0 = [\n",
    "    4  2  3  0  1  0  0  0;\n",
    "    0  5  4  1  0  0  0  0;\n",
    "    2  3  6  0  0  1  0  0;\n",
    "    1  2  0  7  3  0  0  0;\n",
    "    0  0  2  3  8  4  1  0;\n",
    "    0  0  0  1  4  9  3  2;\n",
    "    0  0  0  0  1  3  10  4;\n",
    "    0  0  0  0  0  2  4  11\n",
    "]\n",
    "\n",
    "\n",
    "A0 = [\n",
    "    5   4   2;\n",
    "    0   3   -1;\n",
    "    0   0   1\n",
    "]\n",
    "A0 = [\n",
    "    4  2  3  1;\n",
    "    2  5  1  0;\n",
    "    3  1  6  2;\n",
    "    1  0  2  7\n",
    "]\n",
    "# first group of data 2-10 for the 10*10 non-symmetric one\n",
    "# second group of data 11 for the 11*11 symmetric one\n",
    "# third group of data 12-18 for the 8*8 non-symmetric one\n",
    "# fourth group of data 19-20 for the 3*3 non-symmetric one\n",
    "# fifth group of data 21-23 for the 4*4 symmetric one"
   ]
  },
  {
   "cell_type": "code",
   "execution_count": 46,
   "metadata": {},
   "outputs": [
    {
     "data": {
      "text/plain": [
       "SVD{Float64, Float64, Matrix{Float64}, Vector{Float64}}\n",
       "U factor:\n",
       "4×4 Matrix{Float64}:\n",
       " -0.478084   0.316656  -0.0857035   0.814751\n",
       " -0.298051   0.574778   0.688943   -0.325812\n",
       " -0.638866   0.107342  -0.592426   -0.478914\n",
       " -0.523881  -0.746885   0.408709    0.025866\n",
       "singular values:\n",
       "4-element Vector{Float64}:\n",
       " 10.35155916620537\n",
       "  6.288591756455024\n",
       "  3.8912967942680567\n",
       "  1.4685522830715483\n",
       "Vt factor:\n",
       "4×4 Matrix{Float64}:\n",
       " -0.478084   -0.298051  -0.638866  -0.523881\n",
       "  0.316656    0.574778   0.107342  -0.746885\n",
       " -0.0857035   0.688943  -0.592426   0.408709\n",
       "  0.814751   -0.325812  -0.478914   0.025866"
      ]
     },
     "execution_count": 46,
     "metadata": {},
     "output_type": "execute_result"
    }
   ],
   "source": [
    "U, s, V = svd(A0)"
   ]
  },
  {
   "cell_type": "code",
   "execution_count": 36,
   "metadata": {},
   "outputs": [
    {
     "data": {
      "text/plain": [
       "Eigen{Float64, Float64, Matrix{Float64}, Vector{Float64}}\n",
       "values:\n",
       "3-element Vector{Float64}:\n",
       " 1.0\n",
       " 3.0\n",
       " 5.0\n",
       "vectors:\n",
       "3×3 Matrix{Float64}:\n",
       " -0.666667  -0.894427  1.0\n",
       "  0.333333   0.447214  0.0\n",
       "  0.666667   0.0       0.0"
      ]
     },
     "execution_count": 36,
     "metadata": {},
     "output_type": "execute_result"
    }
   ],
   "source": [
    "eigen(A0)"
   ]
  },
  {
   "cell_type": "markdown",
   "metadata": {},
   "source": [
    "## To calculate the dominant singular value and its corresponding singular vectors\n",
    "\n",
    "- $\\mathbf{v_i} = (A^T A)^k \\mathbf{x_0}$"
   ]
  },
  {
   "cell_type": "code",
   "execution_count": 37,
   "metadata": {},
   "outputs": [
    {
     "data": {
      "text/plain": [
       "pow_singular_dom (generic function with 1 method)"
      ]
     },
     "execution_count": 37,
     "metadata": {},
     "output_type": "execute_result"
    }
   ],
   "source": [
    "# A FUNCTION FOR DOMINANT SINGULAR VECTORS\n",
    "function pow_singular_dom(A, n)\n",
    "    At = transpose(A)\n",
    "    B = At * A\n",
    "    x0 = randn(n)\n",
    "    x = x0 / norm(x0)\n",
    "\n",
    "    v0 = x0\n",
    "    v1 = x0\n",
    "    itr = 0\n",
    "    while (true)\n",
    "        itr += 1\n",
    "        x = B * x\n",
    "        x = x / norm(x)\n",
    "        v1 = x\n",
    "        if (norm(v1-v0) < 0.00001)\n",
    "            println(\"$itr iterations in total for approximation\")\n",
    "            return v1\n",
    "        end\n",
    "        v0 = x\n",
    "    end\n",
    "end\n"
   ]
  },
  {
   "cell_type": "code",
   "execution_count": 42,
   "metadata": {},
   "outputs": [
    {
     "name": "stdout",
     "output_type": "stream",
     "text": [
      "8 iterations in total for approximation\n",
      "6.907667263696954\n",
      "[-0.6993781201795549, -0.6703477192281854, -0.24800036358780164]\n",
      "[-0.9662136217913416, -0.25522983762729495, -0.035902187253743445]\n"
     ]
    }
   ],
   "source": [
    "v_1 = pow_singular_dom(A0, 3)\n",
    "sigma_1 = sqrt((dot(transpose(A0) * A0 * v_1, v_1)) / (transpose(v_1) * (v_1)))\n",
    "u_1 = (A0 * v_1) / sigma_1\n",
    "println(sigma_1)\n",
    "println(v_1)\n",
    "println(u_1)"
   ]
  },
  {
   "cell_type": "markdown",
   "metadata": {},
   "source": [
    "## To calculate the non-trivial singular values and their corresponding singular vectors\n",
    "\n",
    "- $\\sigma_i = \\sqrt{\\frac{B\\mathbf{v_i} \\cdot \\mathbf{v_i}}{\\mathbf{v_i} \\cdot \\mathbf{v_i}}}$\n",
    "\n",
    "- $\\mathbf{u_i} = \\frac{A_0 \\mathbf{v_i}}{\\sigma_i}$\n",
    "\n",
    "- $A_{i} = A_{i-1} - \\sigma_i \\mathbf{u_i} \\mathbf{v_i}^T$"
   ]
  },
  {
   "cell_type": "code",
   "execution_count": 43,
   "metadata": {},
   "outputs": [
    {
     "data": {
      "text/plain": [
       "pow_singular_all (generic function with 1 method)"
      ]
     },
     "execution_count": 43,
     "metadata": {},
     "output_type": "execute_result"
    }
   ],
   "source": [
    "function print_results(v, u, sigma, i)\n",
    "    print(\"Singular value #$i: \")\n",
    "    println(sigma)\n",
    "\n",
    "    print(\"v_$i: \")\n",
    "    println(v)\n",
    "\n",
    "    print(\"u_$i: \")\n",
    "    println(u)\n",
    "\n",
    "    println()\n",
    "end\n",
    "\n",
    "\n",
    "# A FUNCTION FOR ALL SINGULAR VECTORS\n",
    "function pow_singular_all(A, n)\n",
    "    i = 1\n",
    "    A0 = A\n",
    "    B = transpose(A) * A\n",
    "    v_cur = pow_singular_dom(A, n)\n",
    "    sigma_cur = sqrt((dot(B * v_cur, v_cur)) / (transpose(v_cur) * (v_cur)))\n",
    "    u_cur = (A0 * v_cur) / sigma_cur\n",
    "\n",
    "    while true\n",
    "        print_results(v_cur, u_cur, sigma_cur, i)\n",
    "        if (i == n)\n",
    "            break\n",
    "        end\n",
    "        i += 1\n",
    "        A = A - (sigma_cur * u_cur * transpose(v_cur))\n",
    "        B = transpose(A) * A\n",
    "        v_cur = pow_singular_dom(A, n)\n",
    "        sigma_cur = sqrt((dot(B * v_cur, v_cur)) / (transpose(v_cur) * (v_cur)))\n",
    "        u_cur = (A0 * v_cur) / sigma_cur\n",
    "        if (sigma_cur <= 10^(-5))\n",
    "            i-=1\n",
    "            break\n",
    "        end\n",
    "    end\n",
    "    println(\"Found $i non-trivial singular values with corresponding singular vectors\")\n",
    "end"
   ]
  },
  {
   "cell_type": "code",
   "execution_count": 44,
   "metadata": {},
   "outputs": [
    {
     "name": "stdout",
     "output_type": "stream",
     "text": [
      "8 iterations in total for approximation\n",
      "Singular value #1: 6.907667263699527\n",
      "v_1: [0.6993771847818838, 0.6703491655281049, 0.24799909209982993]\n",
      "u_1: [0.9662134140848825, 0.2552306498243594, 0.03590200318464811]\n",
      "\n",
      "5 iterations in total for approximation\n",
      "Singular value #2: 2.769348208816954\n",
      "v_2: [-0.43691950355136144, 0.6755575856708158, -0.5939051236174431]\n",
      "u_2: [-0.24199825077061196, 0.9462796596999202, -0.21445664424812624]\n",
      "\n",
      "2 iterations in total for approximation\n",
      "Singular value #3: 0.7841195523236313\n",
      "v_3: [0.5656614719273344, -0.30700805318165797, -0.7653581870331106]\n",
      "u_3: [0.08870939723118881, -0.198523263513285, -0.9760733357114691]\n",
      "\n",
      "Found 3 non-trivial singular values with corresponding singular vectors\n"
     ]
    }
   ],
   "source": [
    "pow_singular_all(A0, 3)"
   ]
  },
  {
   "cell_type": "markdown",
   "metadata": {},
   "source": [
    "## To calculate the dominant eigenvalue and its corresponding eigenvector"
   ]
  },
  {
   "cell_type": "code",
   "execution_count": null,
   "metadata": {},
   "outputs": [
    {
     "data": {
      "text/plain": [
       "pow_eigen_dom (generic function with 1 method)"
      ]
     },
     "execution_count": 30,
     "metadata": {},
     "output_type": "execute_result"
    }
   ],
   "source": [
    "# A FUNCTION FOR DOMINANT EIGENVECTORS\n",
    "function pow_eigen_dom(A, n)\n",
    "    y0 = randn(n)\n",
    "    y = y0\n",
    "\n",
    "    p0 = y0\n",
    "    p1 = y0\n",
    "    itr = 0\n",
    "    while (true)\n",
    "        itr += 1\n",
    "        y = A * y\n",
    "        y = y / norm(y)\n",
    "        p1 = y\n",
    "        if (norm(p1-p0) < 0.00001)\n",
    "            println(\"$itr iterations in total for approximation\")\n",
    "            return p1\n",
    "        end\n",
    "        p0 = y\n",
    "    end\n",
    "end\n"
   ]
  },
  {
   "cell_type": "code",
   "execution_count": 31,
   "metadata": {},
   "outputs": [
    {
     "name": "stdout",
     "output_type": "stream",
     "text": [
      "11 iterations in total for approximation\n",
      "79.12731125722365\n",
      "[0.21488025892152865, 0.26501404741756346, 0.2464192348103044, 0.3601675027302592, 0.2647534845032151, 0.3043757784548056, 0.2741101307984652, 0.5332376866912981, 0.29386051451286493, 0.290824932423552]\n"
     ]
    }
   ],
   "source": [
    "p_1 = pow_eigen_dom(A0, 10)\n",
    "lambda_1 = (dot(A0 * p_1, p_1)) / (transpose(p_1) * (p_1))\n",
    "println(lambda_1)\n",
    "println(p_1)"
   ]
  },
  {
   "cell_type": "markdown",
   "metadata": {},
   "source": [
    "# The QR Method"
   ]
  },
  {
   "cell_type": "code",
   "execution_count": 75,
   "metadata": {},
   "outputs": [
    {
     "data": {
      "text/plain": [
       "8×8 Matrix{Int64}:\n",
       " 30  27  25  28  22  22  29  24\n",
       " 27  34  31  32  24  27  31  28\n",
       " 25  31  33  32  21  24  28  27\n",
       " 28  32  32  34  22  25  31  30\n",
       " 22  24  21  22  24  23  23  22\n",
       " 22  27  24  25  23  25  25  23\n",
       " 29  31  28  31  23  25  33  29\n",
       " 24  28  27  30  22  23  29  32"
      ]
     },
     "execution_count": 75,
     "metadata": {},
     "output_type": "execute_result"
    }
   ],
   "source": [
    "#Where A is symmetric\n",
    "using LinearAlgebra\n",
    "using Random\n",
    "\n",
    "n = 10\n",
    "B = rand(1:3, 8, 8)\n",
    "A = transpose(B)*B\n",
    "A\n",
    "\n"
   ]
  },
  {
   "cell_type": "code",
   "execution_count": 73,
   "metadata": {},
   "outputs": [
    {
     "data": {
      "text/plain": [
       "3×3 Matrix{Int64}:\n",
       " 2   0   4\n",
       " 0  -3   0\n",
       " 4   0  -4"
      ]
     },
     "execution_count": 73,
     "metadata": {},
     "output_type": "execute_result"
    }
   ],
   "source": [
    "A = [2 0 4 ; 0 -3 0 ; 4 0 -4]"
   ]
  },
  {
   "cell_type": "code",
   "execution_count": 83,
   "metadata": {},
   "outputs": [
    {
     "name": "stdout",
     "output_type": "stream",
     "text": [
      "80"
     ]
    },
    {
     "data": {
      "text/plain": [
       "8×8 Matrix{Float64}:\n",
       " 215.958   0.0     0.0      0.0      0.0     0.0       0.0       0.0\n",
       "   0.0    10.2255  0.0      0.0      0.0     0.0       0.0       0.0\n",
       "   0.0     0.0     7.65159  0.0      0.0     0.0       0.0       0.0\n",
       "   0.0     0.0     0.0      6.50469  0.0     0.0       0.0       0.0\n",
       "   0.0     0.0     0.0      0.0      2.8972  0.0       0.0       0.0\n",
       "   0.0     0.0     0.0      0.0      0.0     0.909393  0.0       0.0\n",
       "   0.0     0.0     0.0      0.0      0.0     0.0       0.818294  0.0\n",
       "   0.0     0.0     0.0      0.0      0.0     0.0       0.0       0.0357195"
      ]
     },
     "metadata": {},
     "output_type": "display_data"
    },
    {
     "name": "stdout",
     "output_type": "stream",
     "text": [
      "0.000886"
     ]
    }
   ],
   "source": [
    "using LinearAlgebra\n",
    "\n",
    "elapsed_time = @elapsed begin\n",
    "temp_A = A\n",
    "AQ = I\n",
    "i = 0\n",
    "while istriu(temp_A) == false\n",
    "    Q, R = qr(temp_A)\n",
    "    AQ = AQ * Q\n",
    "    temp_A = R*Q\n",
    "\n",
    "    temp_A[abs.(temp_A) .< 10^-5] .= 0\n",
    "    if norm(temp_A - Diagonal(temp_A)) < 10^-5\n",
    "        break;\n",
    "    end\n",
    "    i += 1\n",
    "end\n",
    "end\n",
    "print(i)\n",
    "display(temp_A)\n",
    "print(elapsed_time)\n"
   ]
  },
  {
   "cell_type": "code",
   "execution_count": 119,
   "metadata": {},
   "outputs": [
    {
     "name": "stdout",
     "output_type": "stream",
     "text": [
      "Eigenvalues of A: \n",
      "[6.0, 3.0, 3.0]\n"
     ]
    }
   ],
   "source": [
    "#Displaying eigenvalues\n",
    "\n",
    "v  = diag(temp_A)\n",
    "r = round.(v,digits = 5)\n",
    "\n",
    "println(\"Eigenvalues of A: \")\n",
    "println(r)"
   ]
  },
  {
   "cell_type": "code",
   "execution_count": 55,
   "metadata": {},
   "outputs": [
    {
     "data": {
      "text/plain": [
       "8×8 Matrix{Float64}:\n",
       " 0.37077    0.42729     0.460441   …  -0.565161    0.142886  -0.0472726\n",
       " 0.398507   0.0937668  -0.0456594     -0.241166   -0.177208  -0.0890704\n",
       " 0.305786  -0.513515   -0.480015      -0.462569   -0.074499  -0.252332\n",
       " 0.475749   0.189918   -0.175191       0.375853   -0.631227   0.0611067\n",
       " 0.320661  -0.572269    0.55009        0.318465    0.153157  -0.323675\n",
       " 0.378731   0.362463   -0.260031   …   0.401401    0.514732  -0.295694\n",
       " 0.257281  -0.160801   -0.28382       -0.0143107   0.492988   0.575678\n",
       " 0.267256  -0.155358    0.272091       0.0667016  -0.112873   0.631523"
      ]
     },
     "metadata": {},
     "output_type": "display_data"
    }
   ],
   "source": [
    "#The eigenvectors are the columns of AQ\n",
    "# Hi this is Jojo Jojo thinks these should be singular values?\n",
    "\n",
    "display(AQ)"
   ]
  },
  {
   "cell_type": "markdown",
   "metadata": {},
   "source": [
    "## Shifting"
   ]
  },
  {
   "cell_type": "code",
   "execution_count": null,
   "metadata": {},
   "outputs": [
    {
     "name": "stdout",
     "output_type": "stream",
     "text": [
      "390"
     ]
    },
    {
     "data": {
      "text/plain": [
       "8×8 Matrix{Float64}:\n",
       " 215.958  0.0        0.0       0.0        0.0     0.0     0.0      0.0\n",
       "   0.0    0.0357195  0.0       0.0        0.0     0.0     0.0      0.0\n",
       "   0.0    0.0        0.818294  0.0        0.0     0.0     0.0      0.0\n",
       "   0.0    0.0        0.0       0.909393   0.0     0.0     0.0      0.0\n",
       "   0.0    0.0        0.0       0.0       10.2255  0.0     0.0      0.0\n",
       "   0.0    0.0        0.0       0.0        0.0     2.8972  0.0      0.0\n",
       "   0.0    0.0        0.0       0.0        0.0     0.0     7.65159  0.0\n",
       "   0.0    0.0        0.0       0.0        0.0     0.0     0.0      6.50469"
      ]
     },
     "metadata": {},
     "output_type": "display_data"
    },
    {
     "name": "stdout",
     "output_type": "stream",
     "text": [
      "0.139329"
     ]
    }
   ],
   "source": [
    "elapsed_time = @elapsed begin\n",
    "temp_A = A\n",
    "n = size(temp_A, 1)\n",
    "AQ = I\n",
    "i = 0;\n",
    "\n",
    "while istriu(temp_A) == false\n",
    "    i += 1\n",
    "    phi = eigvals(temp_A[n-1:n, n-1:n])\n",
    "    REF = temp_A[n,n]\n",
    "    if abs(phi[1] - REF) <= abs(phi[2] - REF)\n",
    "        shift = phi[1]\n",
    "    else\n",
    "        shift = phi[2]\n",
    "    end\n",
    "    SH = shift * I\n",
    "\n",
    "    Q, R = qr(temp_A - SH)\n",
    "    AQ = AQ * Q\n",
    "    temp_A = R * Q + SH\n",
    "\n",
    "    temp_A[abs.(temp_A) .< 10^-5] .= 0\n",
    "    if norm(temp_A - Diagonal(temp_A)) < 10^-5\n",
    "        break;\n",
    "    end\n",
    "\n",
    "end\n",
    "end\n",
    "print(i)\n",
    "display(temp_A)\n",
    "print(elapsed_time)"
   ]
  },
  {
   "cell_type": "code",
   "execution_count": 72,
   "metadata": {},
   "outputs": [
    {
     "data": {
      "text/plain": [
       "8×8 Matrix{Float64}:\n",
       " 0.306526  -0.45233     0.633406   …   0.277559    0.182164    0.208796\n",
       " 0.381342   0.317289   -0.165544       0.272963    0.539108    0.070704\n",
       " 0.346142  -0.593709   -0.137885       0.0671155  -0.326352   -0.0894484\n",
       " 0.301764  -0.0929886   0.0402814     -0.753057    0.029325   -0.363893\n",
       " 0.363696  -0.135222   -0.327679      -0.280368    0.441485    0.316355\n",
       " 0.365445   0.0170834  -0.52742    …   0.332524   -0.39593    -0.0298661\n",
       " 0.367398   0.453949    0.289733      -0.220455   -0.465958    0.535498\n",
       " 0.385925   0.330064    0.285074       0.197671   -0.0051588  -0.650581"
      ]
     },
     "metadata": {},
     "output_type": "display_data"
    }
   ],
   "source": [
    "display(AQ)"
   ]
  },
  {
   "cell_type": "code",
   "execution_count": null,
   "metadata": {},
   "outputs": [],
   "source": []
  },
  {
   "cell_type": "markdown",
   "metadata": {},
   "source": [
    "# Problem Shooting"
   ]
  },
  {
   "cell_type": "code",
   "execution_count": null,
   "metadata": {},
   "outputs": [],
   "source": [
    "# Leading eigenvectors = those that correspond to singular values > 10^(-5)\n",
    "    # create a limit after each calculation of singular value and if reach 10^(-5), disregard the rest of them\n",
    "\n",
    "# Power method: k -> infinity? how to explain implementing this in julia\n",
    "    # can calculate a reasonable based on source and cite it and put it in codes\n",
    "    # or do an epsilon = x_k+1 - x_k and mtemp_Ae it less than 0.1\n",
    "    # dominant eigenvalues that don't differ much --> put the checks in code and state limitations\n",
    "\n",
    "# what kind of matrices is our algorithm supposed to work on well? Now power method works well with symmetric matrices; QR method only works on squares, well on symmetric, not that reliable on non-symmetric square matrices.\n",
    "    # invertible ones\n",
    "    # maybe because of complex eigenvalues the square ones wouldn't mtemp_Ae sense\n",
    "    # can focus on symmetric ones for now for QR method\n",
    "\n",
    "# efficiency of shifting: it gives the correct answers but we don't know about the efficiency\n",
    "    # mtemp_Ae it as big as possible?\n",
    "    # if can't mtemp_Ae distinguishable just state the possible reason in limitations\n",
    "\n",
    "# explanation: we're explaining the steps of the methods and the improvements on code we could possibly mtemp_Ae -- do we need to explain the proofs of the methods or anything else? (look at project)\n",
    "    # how methods work + proof of math behind it + explanation of code (and improvements)"
   ]
  }
 ],
 "metadata": {
  "kernelspec": {
   "display_name": "Julia 1.10.4",
   "language": "julia",
   "name": "julia-1.10"
  },
  "language_info": {
   "file_extension": ".jl",
   "mimetype": "application/julia",
   "name": "julia",
   "version": "1.10.4"
  }
 },
 "nbformat": 4,
 "nbformat_minor": 2
}
